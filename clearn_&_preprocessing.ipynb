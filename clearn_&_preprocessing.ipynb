{
 "cells": [
  {
   "cell_type": "markdown",
   "metadata": {},
   "source": [
    "# 1. Merge all files"
   ]
  },
  {
   "cell_type": "code",
   "execution_count": 2,
   "metadata": {},
   "outputs": [],
   "source": [
    "import seaborn as sns\n",
    "import matplotlib.pyplot as plt\n",
    "from sklearn.model_selection import train_test_split\n",
    "from sklearn.linear_model import LinearRegression\n",
    "from sklearn.metrics import mean_squared_error\n",
    "from sklearn.preprocessing import StandardScaler\n",
    "from sklearn.ensemble import RandomForestRegressor\n",
    "import numpy as np\n",
    "from sklearn.naive_bayes import MultinomialNB\n",
    "from sklearn.metrics import accuracy_score\n",
    "from xgboost import XGBRegressor\n",
    "from xgboost import XGBClassifier\n",
    "import pandas as pd\n",
    "\n",
    "import selenium\n",
    "from selenium import webdriver\n",
    "from time import sleep\n",
    "from selenium.webdriver.common.keys import Keys\n",
    "from selenium.webdriver.common.by import By\n",
    "import pandas as pd\n",
    "from datetime import datetime, timedelta\n",
    "import os\n",
    "\n",
    "import re\n",
    "import pandas as pd\n",
    "from sklearn.model_selection import train_test_split\n",
    "from sklearn.linear_model import LinearRegression\n",
    "from sklearn.metrics import mean_squared_error\n",
    "from sklearn.preprocessing import LabelEncoder, OneHotEncoder"
   ]
  },
  {
   "cell_type": "code",
   "execution_count": 15,
   "metadata": {},
   "outputs": [
    {
     "name": "stdout",
     "output_type": "stream",
     "text": [
      "30742\n"
     ]
    }
   ],
   "source": [
    "folder_path = \"/Users/nguyentienhuy/Documents/huy/Project/xsmb/data_bds/\"\n",
    "file_list = os.listdir(folder_path)\n",
    "\n",
    "merged_df = pd.DataFrame()\n",
    "\n",
    "# Loop qua từng file CSV và merge vào DataFrame\n",
    "for file in file_list:\n",
    "    if \"cho\" in file:\n",
    "        file_path = os.path.join(folder_path, file)\n",
    "        df = pd.read_csv(file_path)\n",
    "        merged_df = pd.concat([merged_df, df], ignore_index=True)\n",
    "\n",
    "print(len(merged_df))"
   ]
  },
  {
   "cell_type": "code",
   "execution_count": 16,
   "metadata": {},
   "outputs": [],
   "source": [
    "merged_df = merged_df.dropna()\n",
    "merged_df.to_csv(f\"data_bds/all_bds.csv\", index=False, encoding=\"utf-8-sig\")"
   ]
  },
  {
   "cell_type": "markdown",
   "metadata": {},
   "source": [
    "# 2. Clean data "
   ]
  },
  {
   "cell_type": "code",
   "execution_count": 137,
   "metadata": {},
   "outputs": [
    {
     "name": "stdout",
     "output_type": "stream",
     "text": [
      "The total rows of dataframe is 30623\n"
     ]
    }
   ],
   "source": [
    "df = pd.read_csv(\"data_bds/all_bds.csv\")\n",
    "df.head()\n",
    "print(f\"The total rows of dataframe is {len(df)}\")"
   ]
  },
  {
   "cell_type": "code",
   "execution_count": 138,
   "metadata": {},
   "outputs": [
    {
     "name": "stdout",
     "output_type": "stream",
     "text": [
      "The total rows of dataframe is 30371\n"
     ]
    }
   ],
   "source": [
    "df = df[~df['Area'].str.contains(',')]\n",
    "print(f\"The total rows of dataframe is {len(df)}\")"
   ]
  },
  {
   "cell_type": "markdown",
   "metadata": {},
   "source": [
    "2.0 Xử lý diện tích"
   ]
  },
  {
   "cell_type": "code",
   "execution_count": 139,
   "metadata": {},
   "outputs": [],
   "source": [
    "# area_pattern = re.compile(r'(\\d+) m²')\n",
    "# df['area_value'] = df['Area'].apply(lambda x: int(area_pattern.search(x).group(1)) if area_pattern.search(x) else None)\n",
    "\n",
    "df['area_value'] = df['Area'].apply(lambda x: float(x.replace(',', '').replace(' m²', '').replace('.', '')))\n"
   ]
  },
  {
   "cell_type": "markdown",
   "metadata": {},
   "source": [
    "2.1 Xử lý price"
   ]
  },
  {
   "cell_type": "code",
   "execution_count": 140,
   "metadata": {},
   "outputs": [],
   "source": [
    "# Tạo cột 'price_per_m2'\n",
    "# 1. Price ghi: 70 nghìn / m2 => Cột 'price_per_m2' thành 70000\n",
    "pattern = re.compile(r'(\\d+) nghìn/m²')\n",
    "df['price_per_m2'] = df['Price'].apply(lambda x: int(pattern.search(x).group(1)) if pattern.search(x) else None)\n",
    "\n",
    "#2.Nếu Price ghi X triệu/tháng và Area ghi Y m2 thì => Cột 'price_per_m2' thành x / Y\n",
    "def convert_price_string_to_float(price_string):\n",
    "    return float(price_string.replace(',', '.'))\n",
    "\n",
    "price_pattern = re.compile(r'([\\d,]+) triệu/tháng')\n",
    "\n",
    "df['price_value_trieu'] = df['Price'].apply(lambda x: convert_price_string_to_float(price_pattern.search(x).group(1)) if price_pattern.search(x) else None)\n",
    "df['price_per_m2_trieu'] = 1000000 * df['price_value_trieu'] / df['area_value']\n",
    "\n",
    "#3.Nếu Price ghi X tỷ/tháng và Area ghi Y m2 thì => Cột 'price_per_m2' thành x / Y\n",
    "\n",
    "price_pattern_bil = re.compile(r'([\\d,]+) tỷ')\n",
    "\n",
    "df['price_value_ty'] = df['Price'].apply(lambda x: convert_price_string_to_float(price_pattern_bil.search(x).group(1)) if price_pattern_bil.search(x) else None)\n",
    "df['price_per_m2_ty'] = 1000000000 * df['price_value_ty'] / df['area_value']\n",
    "\n",
    "#3. Nếu Price là thoả thuận thì bỏ qua khỏi df luôn\n",
    "df = df[df['Price'] != 'Giá thỏa thuận']\n",
    "\n"
   ]
  },
  {
   "cell_type": "code",
   "execution_count": 141,
   "metadata": {},
   "outputs": [],
   "source": [
    "#4. Từ các cột \"price_per_m2\", \"price_per_m2_trieu\", \"price_per_m2_ty\" ta tìm được price_per_m2_final\n",
    "\n",
    "def calculate_price_per_m2_final(row):\n",
    "    if not pd.isna(row['price_per_m2']):\n",
    "        return row['price_per_m2']\n",
    "    elif not pd.isna(row['price_per_m2_trieu']):\n",
    "        return row['price_per_m2_trieu']\n",
    "    elif not pd.isna(row['price_per_m2_ty']):\n",
    "        return row['price_per_m2_ty']\n",
    "    else:\n",
    "        return np.nan\n",
    "\n",
    "# Áp dụng hàm tùy chỉnh để tạo cột mới\n",
    "df['price_per_m2_final'] = df.apply(calculate_price_per_m2_final, axis=1)"
   ]
  },
  {
   "cell_type": "code",
   "execution_count": 142,
   "metadata": {},
   "outputs": [],
   "source": [
    "#5. Xử lý thành phố\n",
    "df[['district', 'city']] = df['Location'].str.split(', ', expand=True)"
   ]
  },
  {
   "cell_type": "code",
   "execution_count": 143,
   "metadata": {},
   "outputs": [
    {
     "name": "stdout",
     "output_type": "stream",
     "text": [
      "<class 'pandas.core.frame.DataFrame'>\n",
      "Int64Index: 28436 entries, 0 to 30622\n",
      "Data columns (total 14 columns):\n",
      " #   Column              Non-Null Count  Dtype  \n",
      "---  ------              --------------  -----  \n",
      " 0   Title               28436 non-null  object \n",
      " 1   Price               28436 non-null  object \n",
      " 2   Area                28436 non-null  object \n",
      " 3   Location            28436 non-null  object \n",
      " 4   type                28436 non-null  object \n",
      " 5   area_value          28436 non-null  float64\n",
      " 6   price_per_m2        3733 non-null   float64\n",
      " 7   price_value_trieu   24522 non-null  float64\n",
      " 8   price_per_m2_trieu  24522 non-null  float64\n",
      " 9   price_value_ty      38 non-null     float64\n",
      " 10  price_per_m2_ty     38 non-null     float64\n",
      " 11  price_per_m2_final  28293 non-null  float64\n",
      " 12  district            28436 non-null  object \n",
      " 13  city                28436 non-null  object \n",
      "dtypes: float64(7), object(7)\n",
      "memory usage: 3.3+ MB\n"
     ]
    }
   ],
   "source": [
    "df.info()"
   ]
  },
  {
   "cell_type": "code",
   "execution_count": 144,
   "metadata": {},
   "outputs": [],
   "source": [
    "df.to_csv(f\"data_bds/all_bds_clean.csv\", index=False, encoding=\"utf-8-sig\")"
   ]
  },
  {
   "cell_type": "markdown",
   "metadata": {},
   "source": [
    "# 3. Model - test"
   ]
  },
  {
   "cell_type": "code",
   "execution_count": 170,
   "metadata": {},
   "outputs": [
    {
     "name": "stdout",
     "output_type": "stream",
     "text": [
      "The total rows of dataframe is 28436\n"
     ]
    }
   ],
   "source": [
    "df = pd.read_csv(\"data_bds/all_bds_clean.csv\")\n",
    "df.head()\n",
    "print(f\"The total rows of dataframe is {len(df)}\")"
   ]
  },
  {
   "cell_type": "code",
   "execution_count": 171,
   "metadata": {},
   "outputs": [],
   "source": [
    "df['district'] = df['district'].replace('·\\nQuận', 'Quận', regex=True)\n",
    "df['district'] = df['district'].replace('·\\nTây Hồ', 'Tây Hồ', regex=True)\n",
    "df['district'] = df['district'].replace('·\\nCầu Giấy', 'Cầu Giấy', regex=True)\n",
    "df['district'] = df['district'].replace('·\\nBa Đình', 'Ba Đình', regex=True)\n",
    "df['district'] = df['district'].replace('·\\nHà Đông', 'Hà Đông', regex=True)\n",
    "df['district'] = df['district'].replace('·\\nNam Từ Liêm', 'Nam Từ Liêm', regex=True)\n"
   ]
  },
  {
   "cell_type": "code",
   "execution_count": 159,
   "metadata": {},
   "outputs": [
    {
     "data": {
      "text/plain": [
       "array(['cho-thue-nha-tro-phong-tro', 'cho-thue-kho-nha-xuong-dat',\n",
       "       'cho-thue-van-phong', 'cho-thue-sang-nhuong-cua-hang-ki-ot',\n",
       "       'cho-thue-loai-bat-dong-san-khac'], dtype=object)"
      ]
     },
     "execution_count": 159,
     "metadata": {},
     "output_type": "execute_result"
    }
   ],
   "source": [
    "df['type'].unique()"
   ]
  },
  {
   "cell_type": "code",
   "execution_count": 160,
   "metadata": {},
   "outputs": [],
   "source": [
    "replace_dict = {\n",
    "    'cho-thue-nha-tro-phong-tro': 'Cho thuê nhà trọ phòng trọ',\n",
    "    'cho-thue-kho-nha-xuong-dat': 'Cho thuê kho nhà xưởng',\n",
    "    'cho-thue-van-phong': 'Cho thuê văn phòng',\n",
    "    'cho-thue-sang-nhuong-cua-hang-ki-ot': 'Cho thuê sang nhượng cửa hàng kiot',\n",
    "    'cho-thue-loai-bat-dong-san-khac': 'Cho thuê loại bất động sản khác'\n",
    "}\n",
    "\n",
    "# Thay đổi giá trị trong cột 'type' sử dụng replace\n",
    "df['type'] = df['type'].replace(replace_dict)"
   ]
  },
  {
   "cell_type": "code",
   "execution_count": 162,
   "metadata": {},
   "outputs": [
    {
     "name": "stdout",
     "output_type": "stream",
     "text": [
      "Index(['Title', 'Price', 'Area', 'Location', 'type', 'area_value',\n",
      "       'price_per_m2', 'price_value_trieu', 'price_per_m2_trieu',\n",
      "       'price_value_ty', 'price_per_m2_ty', 'price_per_m2_final', 'district',\n",
      "       'city'],\n",
      "      dtype='object')\n"
     ]
    }
   ],
   "source": [
    "print(df.columns)\n",
    "df = df[[\"area_value\", \"price_per_m2_final\", \"district\", \"city\", \"type\"]]"
   ]
  },
  {
   "cell_type": "code",
   "execution_count": 164,
   "metadata": {},
   "outputs": [],
   "source": [
    "df = df.dropna(subset=['price_per_m2_final'])\n",
    "df = df[(df['price_per_m2_final'] > 20000) & (df['price_per_m2_final'] < 5000000)]"
   ]
  },
  {
   "cell_type": "code",
   "execution_count": 167,
   "metadata": {},
   "outputs": [
    {
     "name": "stdout",
     "output_type": "stream",
     "text": [
      "R^2 Score: 0.3143662208441329\n"
     ]
    }
   ],
   "source": [
    "import pandas as pd\n",
    "from sklearn.model_selection import train_test_split\n",
    "from sklearn.linear_model import LinearRegression\n",
    "from sklearn.preprocessing import OneHotEncoder\n",
    "from sklearn.compose import ColumnTransformer\n",
    "from sklearn.pipeline import Pipeline\n",
    "\n",
    "X = df.drop('price_per_m2_final', axis=1)\n",
    "y = df['price_per_m2_final']\n",
    "\n",
    "X_train, X_test, y_train, y_test = train_test_split(X, y, test_size=0.2, random_state=42)\n",
    "\n",
    "numeric_features = ['area_value']\n",
    "categorical_features = ['district', 'city', 'type']\n",
    "\n",
    "numeric_transformer = Pipeline(steps=[('scaler', StandardScaler())])\n",
    "categorical_transformer = Pipeline(steps=[('onehot', OneHotEncoder(handle_unknown='ignore'))])\n",
    "\n",
    "preprocessor = ColumnTransformer(\n",
    "    transformers=[\n",
    "        ('num', numeric_transformer, numeric_features),\n",
    "        ('cat', categorical_transformer, categorical_features)])\n",
    "\n",
    "# Xây dựng pipeline với mô hình Linear Regression\n",
    "model = Pipeline(steps=[('preprocessor', preprocessor),\n",
    "                        ('regressor', LinearRegression())])\n",
    "\n",
    "model.fit(X_train, y_train)\n",
    "\n",
    "score = model.score(X_test, y_test)\n",
    "print(f'R^2 Score: {score}')"
   ]
  },
  {
   "cell_type": "code",
   "execution_count": 168,
   "metadata": {},
   "outputs": [],
   "source": [
    "import pickle\n",
    "\n",
    "# Lưu mô hình vào file\n",
    "model_filename_pickle = 'model/linear_regression_model.pkl'\n",
    "with open(model_filename_pickle, 'wb') as file:\n",
    "    pickle.dump(model, file)\n",
    "\n",
    "# Để sử dụng mô hình từ file pickle\n",
    "with open(model_filename_pickle, 'rb') as file:\n",
    "    loaded_model_pickle = pickle.load(file)\n"
   ]
  },
  {
   "cell_type": "code",
   "execution_count": 169,
   "metadata": {},
   "outputs": [
    {
     "name": "stdout",
     "output_type": "stream",
     "text": [
      "Predicted Price per m2 using loaded pickle model: [140201.03068474]\n"
     ]
    }
   ],
   "source": [
    "new_data_1 = {'area_value': [25],\n",
    "            'district': ['Thanh Xuân'],\n",
    "            'city': ['Hà Nội'],\n",
    "            'type': ['Cho thuê nhà trọ phòng trọ']}\n",
    "\n",
    "new_df_1 = pd.DataFrame(new_data_1)\n",
    "\n",
    "new_prediction_pickle = loaded_model_pickle.predict(new_df_1)\n",
    "print(f'Predicted Price per m2 using loaded pickle model: {new_prediction_pickle}')"
   ]
  }
 ],
 "metadata": {
  "kernelspec": {
   "display_name": "huyenv",
   "language": "python",
   "name": "python3"
  },
  "language_info": {
   "codemirror_mode": {
    "name": "ipython",
    "version": 3
   },
   "file_extension": ".py",
   "mimetype": "text/x-python",
   "name": "python",
   "nbconvert_exporter": "python",
   "pygments_lexer": "ipython3",
   "version": "3.9.18"
  }
 },
 "nbformat": 4,
 "nbformat_minor": 2
}
